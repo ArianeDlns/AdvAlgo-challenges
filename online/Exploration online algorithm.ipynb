{
 "cells": [
  {
   "cell_type": "code",
   "execution_count": 236,
   "metadata": {},
   "outputs": [],
   "source": [
    "import sys, os, time\n",
    "from statistics import mean\n",
    "from random import randint\n",
    "import pandas as pd\n",
    "\n",
    "# variable globale qui peut servir à stocker des informations d'un appel à l'autre si besoin\n",
    "global_state = []\n",
    "best_cuts = [0,254,254,0,1,1,16,16,64,128,255,255,0,0,1] \n",
    "\n",
    "def online_two_clustering_LAZY(ring_size, alpha, current_cut, current_cost, new_msg, first_call):\n",
    "        \"\"\"\n",
    "            A Faire:         \n",
    "            - Ecrire une fonction qui retourne la nouvelle coupe\n",
    "\n",
    "            :param ring_size: taille de l'anneau\n",
    "\n",
    "            :param alpha: ...\n",
    "\n",
    "            :param current_cut: indice dans range(ring_size//2) représentant la coupe courante\n",
    "\n",
    "            :param current_cost: coût courant accumulé depuis le début\n",
    "\n",
    "            :param new_msg: indice dans range(ring_size) représentant le noeud de départ du nouveau message\n",
    "\n",
    "            :param first_call: booléen qui permet de reconnaitre le premier message  \n",
    "\n",
    "            :return l'indice dans range(ring_size//2) représentant la nouvelle coupe     \n",
    "        \"\"\"\n",
    "\n",
    "        # utiliser la variable globale\n",
    "        global global_state \n",
    "\n",
    "        # initialiser la variable globale lors du premier appel\n",
    "        if first_call:\n",
    "            global_state = {}\n",
    "        return current_cut # la coupe/2-clusters courante est conservée, ceci n'est pas une solution optimale\n",
    "\n",
    "def online_two_clustering_GREEDY(ring_size, alpha, current_cut, current_cost, new_msg, first_call):\n",
    "    \"\"\"\n",
    "        A Faire:         \n",
    "        - Ecrire une fonction qui retourne la nouvelle coupe\n",
    "\n",
    "        :param ring_size: taille de l'anneau\n",
    "        \n",
    "        :param alpha: ...\n",
    "\n",
    "        :param current_cut: indice dans range(ring_size//2) représentant la coupe courante\n",
    "                \n",
    "        :param current_cost: coût courant accumulé depuis le début\n",
    " \n",
    "        :param new_msg: indice dans range(ring_size) représentant le noeud de départ du nouveau message\n",
    "\n",
    "        :param first_call: booléen qui permet de reconnaitre le premier message  \n",
    "\n",
    "        :return l'indice dans range(ring_size//2) représentant la nouvelle coupe     \n",
    "    \"\"\"\n",
    "\n",
    "    # utiliser la variable globale\n",
    "    global global_state \n",
    "\n",
    "    # initialiser la variable globale lors du premier appel\n",
    "    if first_call:\n",
    "        global_state = {1}\n",
    "    return current_cut \n",
    "\n",
    "def cost_of_change(alpha,ring_size,current_cut,next_cut):\n",
    "    \"\"\"Computes the cost of change from one cut to another\"\"\"\n",
    "    current_cut = current_cut % (ring_size//2)\n",
    "    next_cut = next_cut % (ring_size//2)\n",
    "    if current_cut < next_cut:\n",
    "        online_cost = 2*alpha*min(next_cut-current_cut, current_cut+(ring_size//2)-next_cut)\n",
    "    elif current_cut > next_cut:\n",
    "        online_cost = 2*alpha*min(current_cut-next_cut, next_cut+(ring_size//2)-current_cut)\n",
    "    else:\n",
    "        online_cost = 0\n",
    "    return online_cost\n",
    "                \n",
    "def tri_2_arg(list):\n",
    "    \"\"\"Prend une liste de couple (a,b) et la trie selon les valeurs de b dans l'ordre croissant\"\"\"\n",
    "    random.shuffle(list)\n",
    "    return sorted(list, key = lambda x: x[1])\n",
    "\n",
    "def range_in_ring(x,ring_size,range_size):\n",
    "    \"\"\"Retourne la liste des 2*range_size nodes du ring adjacents à x\"\"\"\n",
    "    return [i % ring_size for i in range(x-range_size,x+range_size)]\n",
    "    \n",
    "def offline_best_cut(sigma,alpha,current_cut,ring_size):\n",
    "    current_cut_range = range_in_ring(current_cut,ring_size,3) #range(ring_size//2) for full range\n",
    "    cost =[[x, \n",
    "            sigma.count(x%ring_size)\n",
    "            +sigma.count((x+ring_size//2)%ring_size)\n",
    "            +cost_of_change(alpha,ring_size,current_cut,x)] \n",
    "           for x in current_cut_range]\n",
    "    #print(current_cut)\n",
    "    #print(sigma)\n",
    "    #print(tri_2_arg(cost))\n",
    "    return tri_2_arg(cost)[0]"
   ]
  },
  {
   "cell_type": "code",
   "execution_count": 237,
   "metadata": {},
   "outputs": [],
   "source": [
    "def online_two_clustering_GREEDY(ring_size, alpha, current_cut, current_cost, new_msg, first_call):\n",
    "    \"\"\"\n",
    "        Algorithme greedy    \n",
    "    \"\"\"\n",
    "    # utiliser la variable globale\n",
    "    global global_state \n",
    "\n",
    "    # initialiser la variable globale lors du premier appel\n",
    "    if first_call:\n",
    "        global_state = [new_msg]\n",
    "    else:\n",
    "        global_state += [new_msg]\n",
    "    \n",
    "    if new_msg == current_cut:\n",
    "        current_cut = offline_best_cut(list(global_state),alpha,current_cut,ring_size)[0]\n",
    "    return current_cut "
   ]
  },
  {
   "cell_type": "code",
   "execution_count": 240,
   "metadata": {},
   "outputs": [
    {
     "name": "stderr",
     "output_type": "stream",
     "text": [
      "100%|██████████| 4096/4096 [00:00<00:00, 627942.15it/s]\n",
      "100%|██████████| 4096/4096 [00:00<00:00, 379816.70it/s]\n",
      "100%|██████████| 4096/4096 [00:00<00:00, 461216.92it/s]\n",
      "100%|██████████| 4096/4096 [00:00<00:00, 424624.17it/s]\n",
      "100%|██████████| 4096/4096 [00:00<00:00, 298391.13it/s]\n",
      "100%|██████████| 4096/4096 [00:00<00:00, 275693.96it/s]\n",
      "100%|██████████| 4096/4096 [00:00<00:00, 442426.65it/s]\n",
      "100%|██████████| 4096/4096 [00:00<00:00, 394721.74it/s]\n",
      "100%|██████████| 4096/4096 [00:00<00:00, 256113.97it/s]\n",
      "100%|██████████| 4096/4096 [00:00<00:00, 257299.22it/s]"
     ]
    },
    {
     "name": "stdout",
     "output_type": "stream",
     "text": [
      "instance0_M4096_N512.inst\n",
      "ring size: 512\n"
     ]
    },
    {
     "name": "stderr",
     "output_type": "stream",
     "text": [
      "\n",
      " 29%|██▉       | 19303/65536 [00:00<00:00, 191637.10it/s]"
     ]
    },
    {
     "name": "stdout",
     "output_type": "stream",
     "text": [
      "instance10_M65536_N512.inst\n",
      "ring size: 512\n"
     ]
    },
    {
     "name": "stderr",
     "output_type": "stream",
     "text": [
      "100%|██████████| 65536/65536 [00:01<00:00, 39678.10it/s] \n",
      "100%|██████████| 65536/65536 [00:01<00:00, 49202.20it/s] \n",
      "100%|██████████| 65536/65536 [00:01<00:00, 42479.88it/s] \n",
      "100%|██████████| 65536/65536 [00:00<00:00, 85168.86it/s] \n",
      "100%|██████████| 65536/65536 [00:00<00:00, 83312.37it/s] \n",
      "100%|██████████| 65536/65536 [00:00<00:00, 86067.47it/s] \n",
      "100%|██████████| 65536/65536 [00:00<00:00, 87453.87it/s] \n",
      "100%|██████████| 65536/65536 [00:00<00:00, 88294.33it/s] \n",
      "100%|██████████| 65536/65536 [00:00<00:00, 83610.28it/s] \n",
      "100%|██████████| 65536/65536 [00:00<00:00, 84482.57it/s] \n",
      "100%|██████████| 65536/65536 [00:00<00:00, 1003907.51it/s]\n",
      "100%|██████████| 65536/65536 [00:00<00:00, 953420.86it/s]\n",
      "  0%|          | 0/65536 [00:00<?, ?it/s]"
     ]
    },
    {
     "name": "stdout",
     "output_type": "stream",
     "text": [
      "instance11_M65536_N512.inst\n",
      "ring size: 512\n"
     ]
    },
    {
     "name": "stderr",
     "output_type": "stream",
     "text": [
      "100%|██████████| 65536/65536 [00:00<00:00, 968439.19it/s]\n",
      "100%|██████████| 65536/65536 [00:00<00:00, 939165.95it/s]\n",
      "100%|██████████| 65536/65536 [00:00<00:00, 913698.29it/s]\n",
      "100%|██████████| 65536/65536 [00:00<00:00, 961151.89it/s]\n",
      "100%|██████████| 65536/65536 [00:00<00:00, 976108.13it/s]\n",
      "100%|██████████| 65536/65536 [00:00<00:00, 981464.95it/s]\n",
      "100%|██████████| 65536/65536 [00:00<00:00, 888419.58it/s]\n",
      "100%|██████████| 65536/65536 [00:00<00:00, 967069.52it/s]\n",
      " 32%|███▏      | 20681/65536 [00:00<00:00, 198929.93it/s]"
     ]
    },
    {
     "name": "stdout",
     "output_type": "stream",
     "text": [
      "instance12_M65536_N512.inst\n",
      "ring size: 512\n"
     ]
    },
    {
     "name": "stderr",
     "output_type": "stream",
     "text": [
      "100%|██████████| 65536/65536 [00:00<00:00, 80101.97it/s] \n",
      "100%|██████████| 65536/65536 [00:00<00:00, 68236.62it/s] \n",
      "100%|██████████| 65536/65536 [00:00<00:00, 78766.41it/s] \n",
      "100%|██████████| 65536/65536 [00:00<00:00, 86205.27it/s] \n",
      "100%|██████████| 65536/65536 [00:00<00:00, 87134.56it/s] \n",
      "100%|██████████| 65536/65536 [00:00<00:00, 85571.66it/s] \n",
      "100%|██████████| 65536/65536 [00:00<00:00, 82304.15it/s] \n",
      "100%|██████████| 65536/65536 [00:00<00:00, 87631.49it/s] \n",
      "100%|██████████| 65536/65536 [00:00<00:00, 84236.41it/s] \n",
      "100%|██████████| 65536/65536 [00:00<00:00, 82658.14it/s] \n",
      "100%|██████████| 1024/1024 [00:00<00:00, 500754.03it/s]\n",
      "100%|██████████| 1024/1024 [00:00<00:00, 289087.12it/s]\n",
      "100%|██████████| 1024/1024 [00:00<00:00, 244853.05it/s]\n",
      "100%|██████████| 1024/1024 [00:00<00:00, 324246.36it/s]\n",
      "100%|██████████| 1024/1024 [00:00<00:00, 206697.50it/s]\n",
      "100%|██████████| 1024/1024 [00:00<00:00, 224702.69it/s]\n",
      "100%|██████████| 1024/1024 [00:00<00:00, 216534.78it/s]\n",
      "100%|██████████| 1024/1024 [00:00<00:00, 252333.43it/s]\n",
      "100%|██████████| 1024/1024 [00:00<00:00, 232991.61it/s]\n",
      "100%|██████████| 1024/1024 [00:00<00:00, 289496.31it/s]\n",
      "  0%|          | 0/65536 [00:00<?, ?it/s]"
     ]
    },
    {
     "name": "stdout",
     "output_type": "stream",
     "text": [
      "instance13_M1024_N128.inst\n",
      "ring size: 128\n",
      "instance14_M65536_N512.inst\n",
      "ring size: 512\n"
     ]
    },
    {
     "name": "stderr",
     "output_type": "stream",
     "text": [
      "100%|██████████| 65536/65536 [00:00<00:00, 252732.24it/s]\n",
      "100%|██████████| 65536/65536 [00:00<00:00, 255252.08it/s]\n",
      "100%|██████████| 65536/65536 [00:00<00:00, 238991.43it/s]\n",
      "100%|██████████| 65536/65536 [00:00<00:00, 263588.42it/s]\n",
      "100%|██████████| 65536/65536 [00:00<00:00, 259427.45it/s]\n",
      "100%|██████████| 65536/65536 [00:00<00:00, 248427.57it/s]\n",
      "100%|██████████| 65536/65536 [00:00<00:00, 259135.92it/s]\n",
      "100%|██████████| 65536/65536 [00:00<00:00, 223301.87it/s]\n",
      "100%|██████████| 65536/65536 [00:00<00:00, 252939.92it/s]\n",
      "100%|██████████| 65536/65536 [00:00<00:00, 211939.67it/s]\n",
      "100%|██████████| 4096/4096 [00:00<00:00, 39772.73it/s]\n",
      "  0%|          | 0/4096 [00:00<?, ?it/s]"
     ]
    },
    {
     "name": "stdout",
     "output_type": "stream",
     "text": [
      "instance1_M4096_N16.inst\n",
      "ring size: 16\n"
     ]
    },
    {
     "name": "stderr",
     "output_type": "stream",
     "text": [
      "100%|██████████| 4096/4096 [00:00<00:00, 41713.39it/s]\n",
      "100%|██████████| 4096/4096 [00:00<00:00, 40960.43it/s]\n",
      "100%|██████████| 4096/4096 [00:00<00:00, 42539.49it/s]\n",
      "100%|██████████| 4096/4096 [00:00<00:00, 38450.31it/s]\n",
      "100%|██████████| 4096/4096 [00:00<00:00, 37234.70it/s]\n",
      "100%|██████████| 4096/4096 [00:00<00:00, 34068.39it/s]\n",
      "100%|██████████| 4096/4096 [00:00<00:00, 38202.45it/s]\n",
      "100%|██████████| 4096/4096 [00:00<00:00, 41295.78it/s]\n",
      "100%|██████████| 4096/4096 [00:00<00:00, 38973.76it/s]\n",
      "100%|██████████| 1024/1024 [00:00<00:00, 72066.84it/s]\n",
      "100%|██████████| 1024/1024 [00:00<00:00, 68756.88it/s]\n",
      "100%|██████████| 1024/1024 [00:00<00:00, 67787.80it/s]\n",
      "100%|██████████| 1024/1024 [00:00<00:00, 64585.97it/s]\n",
      "100%|██████████| 1024/1024 [00:00<00:00, 67770.69it/s]\n",
      "100%|██████████| 1024/1024 [00:00<00:00, 50525.46it/s]\n",
      "100%|██████████| 1024/1024 [00:00<00:00, 52775.40it/s]\n",
      "100%|██████████| 1024/1024 [00:00<00:00, 81052.41it/s]\n",
      "100%|██████████| 1024/1024 [00:00<00:00, 72149.16it/s]\n",
      "100%|██████████| 1024/1024 [00:00<00:00, 66553.56it/s]\n"
     ]
    },
    {
     "name": "stdout",
     "output_type": "stream",
     "text": [
      "instance2_M1024_N16.inst\n",
      "ring size: 16\n"
     ]
    },
    {
     "name": "stderr",
     "output_type": "stream",
     "text": [
      " 11%|█         | 7314/65536 [00:00<00:00, 72068.91it/s]"
     ]
    },
    {
     "name": "stdout",
     "output_type": "stream",
     "text": [
      "instance3_M65536_N64.inst\n",
      "ring size: 64\n"
     ]
    },
    {
     "name": "stderr",
     "output_type": "stream",
     "text": [
      "100%|██████████| 65536/65536 [00:06<00:00, 10609.66it/s]\n",
      "100%|██████████| 65536/65536 [00:05<00:00, 11194.64it/s]\n",
      "100%|██████████| 65536/65536 [00:08<00:00, 8125.67it/s] \n",
      "100%|██████████| 65536/65536 [00:06<00:00, 10904.90it/s]\n",
      "100%|██████████| 65536/65536 [00:05<00:00, 11073.36it/s]\n",
      "100%|██████████| 65536/65536 [00:06<00:00, 10080.68it/s]\n",
      "100%|██████████| 65536/65536 [00:06<00:00, 10272.42it/s]\n",
      "100%|██████████| 65536/65536 [00:06<00:00, 9402.01it/s] \n",
      "100%|██████████| 65536/65536 [00:06<00:00, 10234.44it/s]\n",
      "100%|██████████| 65536/65536 [00:05<00:00, 11073.32it/s]\n",
      " 16%|█▌        | 10271/65536 [00:00<00:00, 100058.29it/s]"
     ]
    },
    {
     "name": "stdout",
     "output_type": "stream",
     "text": [
      "instance4_M65536_N128.inst\n",
      "ring size: 128\n"
     ]
    },
    {
     "name": "stderr",
     "output_type": "stream",
     "text": [
      "100%|██████████| 65536/65536 [00:03<00:00, 20416.75it/s] \n",
      "100%|██████████| 65536/65536 [00:03<00:00, 19104.79it/s] \n",
      "100%|██████████| 65536/65536 [00:02<00:00, 21980.00it/s] \n",
      "100%|██████████| 65536/65536 [00:03<00:00, 19618.38it/s]\n",
      "100%|██████████| 65536/65536 [00:03<00:00, 18298.56it/s] \n",
      "100%|██████████| 65536/65536 [00:03<00:00, 21601.60it/s] \n",
      "100%|██████████| 65536/65536 [00:03<00:00, 19124.54it/s] \n",
      "100%|██████████| 65536/65536 [00:03<00:00, 21489.89it/s] \n",
      "100%|██████████| 65536/65536 [00:02<00:00, 23039.34it/s] \n",
      "100%|██████████| 65536/65536 [00:03<00:00, 18734.68it/s]\n",
      " 29%|██▉       | 19330/65536 [00:00<00:00, 191600.39it/s]"
     ]
    },
    {
     "name": "stdout",
     "output_type": "stream",
     "text": [
      "instance5_M65536_N512.inst\n",
      "ring size: 512\n"
     ]
    },
    {
     "name": "stderr",
     "output_type": "stream",
     "text": [
      "100%|██████████| 65536/65536 [00:00<00:00, 79402.81it/s] \n",
      "100%|██████████| 65536/65536 [00:00<00:00, 74423.84it/s] \n",
      "100%|██████████| 65536/65536 [00:00<00:00, 76012.03it/s] \n",
      "100%|██████████| 65536/65536 [00:00<00:00, 67650.75it/s] \n",
      "100%|██████████| 65536/65536 [00:00<00:00, 85860.12it/s] \n",
      "100%|██████████| 65536/65536 [00:00<00:00, 66347.50it/s] \n",
      "100%|██████████| 65536/65536 [00:00<00:00, 84331.80it/s] \n",
      "100%|██████████| 65536/65536 [00:00<00:00, 83363.56it/s] \n",
      "100%|██████████| 65536/65536 [00:00<00:00, 84010.71it/s] \n",
      "100%|██████████| 65536/65536 [00:01<00:00, 60982.04it/s] \n",
      "100%|██████████| 65536/65536 [00:00<00:00, 901321.78it/s]\n",
      "100%|██████████| 65536/65536 [00:00<00:00, 951355.18it/s]\n",
      "  0%|          | 0/65536 [00:00<?, ?it/s]"
     ]
    },
    {
     "name": "stdout",
     "output_type": "stream",
     "text": [
      "instance6_M65536_N512.inst\n",
      "ring size: 512\n"
     ]
    },
    {
     "name": "stderr",
     "output_type": "stream",
     "text": [
      "100%|██████████| 65536/65536 [00:00<00:00, 872210.17it/s]\n",
      "100%|██████████| 65536/65536 [00:00<00:00, 850475.42it/s]\n",
      "100%|██████████| 65536/65536 [00:00<00:00, 1024383.35it/s]\n",
      "100%|██████████| 65536/65536 [00:00<00:00, 1080235.90it/s]\n",
      "100%|██████████| 65536/65536 [00:00<00:00, 1048828.06it/s]\n",
      "100%|██████████| 65536/65536 [00:00<00:00, 1086847.68it/s]\n",
      "100%|██████████| 65536/65536 [00:00<00:00, 1019365.07it/s]\n",
      "100%|██████████| 65536/65536 [00:00<00:00, 1082951.14it/s]\n",
      "100%|██████████| 65536/65536 [00:00<00:00, 775487.95it/s]\n",
      "100%|██████████| 65536/65536 [00:00<00:00, 913917.02it/s]\n",
      "  0%|          | 0/65536 [00:00<?, ?it/s]"
     ]
    },
    {
     "name": "stdout",
     "output_type": "stream",
     "text": [
      "instance7_M65536_N512.inst\n",
      "ring size: 512\n"
     ]
    },
    {
     "name": "stderr",
     "output_type": "stream",
     "text": [
      "100%|██████████| 65536/65536 [00:00<00:00, 845611.65it/s]\n",
      "100%|██████████| 65536/65536 [00:00<00:00, 920669.70it/s]\n",
      "100%|██████████| 65536/65536 [00:00<00:00, 1018922.97it/s]\n",
      "100%|██████████| 65536/65536 [00:00<00:00, 1009096.57it/s]\n",
      "100%|██████████| 65536/65536 [00:00<00:00, 954566.44it/s]\n",
      "100%|██████████| 65536/65536 [00:00<00:00, 953044.01it/s]\n",
      "100%|██████████| 65536/65536 [00:00<00:00, 1010565.68it/s]\n",
      "100%|██████████| 65536/65536 [00:00<00:00, 1016267.15it/s]\n",
      " 35%|███▌      | 23041/65536 [00:00<00:00, 222977.63it/s]"
     ]
    },
    {
     "name": "stdout",
     "output_type": "stream",
     "text": [
      "instance8_M65536_N512.inst\n",
      "ring size: 512\n"
     ]
    },
    {
     "name": "stderr",
     "output_type": "stream",
     "text": [
      "100%|██████████| 65536/65536 [00:00<00:00, 91070.92it/s] \n",
      "100%|██████████| 65536/65536 [00:00<00:00, 90994.05it/s] \n",
      "100%|██████████| 65536/65536 [00:00<00:00, 83321.38it/s] \n",
      "100%|██████████| 65536/65536 [00:00<00:00, 79699.36it/s] \n",
      "100%|██████████| 65536/65536 [00:00<00:00, 85362.47it/s] \n",
      "100%|██████████| 65536/65536 [00:00<00:00, 91793.65it/s] \n",
      "100%|██████████| 65536/65536 [00:00<00:00, 68546.91it/s] \n",
      "100%|██████████| 65536/65536 [00:00<00:00, 72762.64it/s] \n",
      "100%|██████████| 65536/65536 [00:00<00:00, 87515.65it/s] \n",
      "100%|██████████| 65536/65536 [00:00<00:00, 74911.47it/s] \n",
      "100%|██████████| 65536/65536 [00:00<00:00, 1055124.64it/s]\n",
      "100%|██████████| 65536/65536 [00:00<00:00, 962987.03it/s]\n",
      "  0%|          | 0/65536 [00:00<?, ?it/s]"
     ]
    },
    {
     "name": "stdout",
     "output_type": "stream",
     "text": [
      "instance9_M65536_N512.inst\n",
      "ring size: 512\n"
     ]
    },
    {
     "name": "stderr",
     "output_type": "stream",
     "text": [
      "100%|██████████| 65536/65536 [00:00<00:00, 933225.73it/s]\n",
      "100%|██████████| 65536/65536 [00:00<00:00, 899728.67it/s]\n",
      "100%|██████████| 65536/65536 [00:00<00:00, 897827.30it/s]\n",
      "100%|██████████| 65536/65536 [00:00<00:00, 980079.18it/s]\n",
      "100%|██████████| 65536/65536 [00:00<00:00, 845102.09it/s]\n",
      "100%|██████████| 65536/65536 [00:00<00:00, 839955.35it/s]\n",
      "100%|██████████| 65536/65536 [00:00<00:00, 960980.52it/s]\n",
      "100%|██████████| 65536/65536 [00:00<00:00, 975803.20it/s]"
     ]
    },
    {
     "name": "stdout",
     "output_type": "stream",
     "text": [
      "5011\n",
      "[]\n"
     ]
    },
    {
     "name": "stderr",
     "output_type": "stream",
     "text": [
      "\n"
     ]
    }
   ],
   "source": [
    "from tqdm import tqdm\n",
    "\n",
    "##############################################################\n",
    "#### LISEZ LE README et NE PAS MODIFIER LE CODE SUIVANT ####\n",
    "##############################################################\n",
    "if __name__==\"__main__\":\n",
    "    input_dir = os.path.abspath('test_dataset')\n",
    "    output_dir = os.path.abspath('rep_dataset')\n",
    "    \n",
    "    # un repertoire des graphes en entree doit être passé en parametre 1\n",
    "    if not os.path.isdir(input_dir):\n",
    "\t    print(input_dir, \"doesn't exist\")\n",
    "\t    exit()\n",
    "\n",
    "    # un repertoire pour enregistrer les dominants doit être passé en parametre 2\n",
    "    if not os.path.isdir(output_dir):\n",
    "\t    print(output_dir, \"doesn't exist\")\n",
    "\t    exit()       \n",
    "\t\n",
    "    # fichier des reponses depose dans le output_dir et annote par date/heure\n",
    "    output_filename = 'answers_{}.txt'.format(time.strftime(\"%d%b%Y_%H%M%S\", time.localtime()))             \n",
    "    output_file = open(os.path.join(output_dir, output_filename), 'w')\n",
    "\n",
    "    scores = []\n",
    "    best_cuts = []\n",
    "    for instance_filename in sorted(os.listdir(input_dir)):\n",
    "        # importer l'instance depuis le fichier (attention code non robuste)\n",
    "        instance_file = open(os.path.join(input_dir, instance_filename), \"r\")\n",
    "        lines = instance_file.readlines()\n",
    "        ring_size = int(lines[1])\n",
    "        alpha = int(lines[4])\n",
    "        sigma = [int(d) for d in lines[7].split()]\n",
    "\n",
    "        print(instance_filename)\n",
    "        print('ring size: '+ str(ring_size))\n",
    "        \n",
    "        #best_cut = offline_best_cut(sigma,alpha,current_cut,ring_size)[0] % (ring_size//2)\n",
    "        #best_cuts += [best_cut]     \n",
    "        \n",
    "        # lancement de l'algo online 10 fois et calcul du meilleur cout\n",
    "        nb_runs = 10\n",
    "        best_cost = float('inf')\n",
    "        for _ in range(nb_runs):\n",
    "            online_cost = 0\n",
    "            current_cut = 0\n",
    "            first_call = True\n",
    "            #print(sigma)\n",
    "            for msg in tqdm(sigma):\n",
    "                next_cut = online_two_clustering_GREEDY(ring_size, alpha, current_cut, online_cost, msg, first_call) % (ring_size//2)\n",
    "                if current_cut < next_cut:\n",
    "                    online_cost += 2*alpha*min(next_cut-current_cut, current_cut+(ring_size//2)-next_cut)\n",
    "                if current_cut > next_cut:\n",
    "                    online_cost += 2*alpha*min(current_cut-next_cut, next_cut+(ring_size//2)-current_cut)\n",
    "                \n",
    "                current_cut = next_cut\n",
    "                if current_cut == msg % (ring_size//2):\n",
    "                    online_cost += 1\n",
    "\n",
    "                first_call = False\n",
    "\n",
    "            best_cost = min(best_cost, online_cost)\n",
    "\n",
    "        scores.append(best_cost)\n",
    "\n",
    "        # ajout au rapport\n",
    "        output_file.write(instance_filename + ': score: {}\\n'.format(best_cost))\n",
    "        \n",
    "    print(sum(scores))\n",
    "    print(best_cuts)\n",
    "    output_file.write('score total: ' + str(sum(scores)))\n",
    "\n",
    "    output_file.close()"
   ]
  },
  {
   "cell_type": "code",
   "execution_count": 239,
   "metadata": {},
   "outputs": [
    {
     "ename": "KeyboardInterrupt",
     "evalue": "",
     "output_type": "error",
     "traceback": [
      "\u001b[0;31m---------------------------------------------------------------------------\u001b[0m",
      "\u001b[0;31mKeyboardInterrupt\u001b[0m                         Traceback (most recent call last)",
      "\u001b[0;32m<ipython-input-239-dcebfedbea24>\u001b[0m in \u001b[0;36m<module>\u001b[0;34m()\u001b[0m\n\u001b[1;32m     75\u001b[0m                     \u001b[0monline_cost\u001b[0m \u001b[0;34m+=\u001b[0m \u001b[0;36m2\u001b[0m\u001b[0;34m*\u001b[0m\u001b[0malpha\u001b[0m\u001b[0;34m*\u001b[0m\u001b[0mmin\u001b[0m\u001b[0;34m(\u001b[0m\u001b[0mcurrent_cut\u001b[0m\u001b[0;34m-\u001b[0m\u001b[0mnext_cut\u001b[0m\u001b[0;34m,\u001b[0m \u001b[0mnext_cut\u001b[0m\u001b[0;34m+\u001b[0m\u001b[0;34m(\u001b[0m\u001b[0mring_size\u001b[0m\u001b[0;34m//\u001b[0m\u001b[0;36m2\u001b[0m\u001b[0;34m)\u001b[0m\u001b[0;34m-\u001b[0m\u001b[0mcurrent_cut\u001b[0m\u001b[0;34m)\u001b[0m\u001b[0;34m\u001b[0m\u001b[0m\n\u001b[1;32m     76\u001b[0m                 \u001b[0mcurrent_cut\u001b[0m \u001b[0;34m=\u001b[0m \u001b[0mnext_cut\u001b[0m\u001b[0;34m\u001b[0m\u001b[0m\n\u001b[0;32m---> 77\u001b[0;31m                 \u001b[0;32mif\u001b[0m \u001b[0mcurrent_cut\u001b[0m \u001b[0;34m==\u001b[0m \u001b[0mmsg\u001b[0m \u001b[0;34m%\u001b[0m \u001b[0;34m(\u001b[0m\u001b[0mring_size\u001b[0m\u001b[0;34m//\u001b[0m\u001b[0;36m2\u001b[0m\u001b[0;34m)\u001b[0m\u001b[0;34m:\u001b[0m\u001b[0;34m\u001b[0m\u001b[0m\n\u001b[0m\u001b[1;32m     78\u001b[0m                     \u001b[0monline_cost\u001b[0m \u001b[0;34m+=\u001b[0m \u001b[0;36m1\u001b[0m\u001b[0;34m\u001b[0m\u001b[0m\n\u001b[1;32m     79\u001b[0m                 \u001b[0mfirst_call\u001b[0m \u001b[0;34m=\u001b[0m \u001b[0;32mFalse\u001b[0m\u001b[0;34m\u001b[0m\u001b[0m\n",
      "\u001b[0;31mKeyboardInterrupt\u001b[0m: "
     ]
    }
   ],
   "source": [
    "import sys, os, time\n",
    "from statistics import mean\n",
    "\n",
    "# variable globale qui peut servir à stocker des informations d'un appel à l'autre si besoin\n",
    "global_state = 0 \n",
    "\n",
    "def online_two_clustering(ring_size, alpha, current_cut, current_cost, new_msg, first_call):\n",
    "    \"\"\"\n",
    "        A Faire:         \n",
    "        - Ecrire une fonction qui retourne la nouvelle coupe\n",
    "        :param ring_size: taille de l'anneau\n",
    "        \n",
    "        :param alpha: ...\n",
    "        :param current_cut: indice dans range(ring_size//2) représentant la coupe courante\n",
    "                \n",
    "        :param current_cost: coût courant accumulé depuis le début\n",
    "\n",
    "        :param new_msg: indice dans range(ring_size) représentant le noeud de départ du nouveau message\n",
    "        :param first_call: booléen qui permet de reconnaitre le premier message  \n",
    "        :return l'indice dans range(ring_size//2) représentant la nouvelle coupe     \n",
    "    \"\"\"\n",
    "    # known best_cuts\n",
    "    best_cuts = [0,254,254,0,1,1,16,16,64,128,255,255,0,0,1] \n",
    "    # utiliser la variable globale\n",
    "    global global_state \n",
    "    # initialiser la variable globale lors du premier appel\n",
    "    if first_call:\n",
    "        global_state += 1\n",
    "    current_cut = best_cuts[int((global_state-1)/10)]\n",
    "    #print(int(global_state/10))\n",
    "    return current_cut # la coupe/2-clusters courante est conservée, ceci n'est pas une solution optimale\n",
    "\n",
    "##############################################################\n",
    "#### LISEZ LE README et NE PAS MODIFIER LE CODE SUIVANT ####\n",
    "##############################################################\n",
    "if __name__==\"__main__\":\n",
    "    input_dir = os.path.abspath('test_dataset')\n",
    "    output_dir = os.path.abspath('rep_dataset')\n",
    "    \n",
    "    # un repertoire des graphes en entree doit être passé en parametre 1\n",
    "    if not os.path.isdir(input_dir):\n",
    "        print(input_dir, \"doesn't exist\")\n",
    "        exit()\n",
    "    # un repertoire pour enregistrer les dominants doit être passé en parametre 2\n",
    "    if not os.path.isdir(output_dir):\n",
    "        print(output_dir, \"doesn't exist\")\n",
    "        exit()       \n",
    "    \n",
    "    # fichier des reponses depose dans le output_dir et annote par date/heure\n",
    "    output_filename = 'answers_{}.txt'.format(time.strftime(\"%d%b%Y_%H%M%S\", time.localtime()))             \n",
    "    output_file = open(os.path.join(output_dir, output_filename), 'w')\n",
    "    scores = []\n",
    "    \n",
    "    for instance_filename in sorted(os.listdir(input_dir)):\n",
    "        # importer l'instance depuis le fichier (attention code non robuste)\n",
    "        instance_file = open(os.path.join(input_dir, instance_filename), \"r\")\n",
    "        lines = instance_file.readlines()\n",
    "        \n",
    "        ring_size = int(lines[1])\n",
    "        alpha = int(lines[4])\n",
    "        sigma = [int(d) for d in lines[7].split()]\n",
    "                \n",
    "        # lancement de l'algo online 10 fois et calcul du meilleur cout\n",
    "        nb_runs = 10\n",
    "        best_cost = float('inf')\n",
    "        for _ in range(nb_runs):\n",
    "            online_cost = 0\n",
    "            current_cut = 0\n",
    "            first_call = True\n",
    "            for msg in sigma:\n",
    "                next_cut = online_two_clustering_GREEDY(ring_size, alpha, current_cut, online_cost, msg, first_call) % (ring_size//2)\n",
    "                if current_cut < next_cut:\n",
    "                    online_cost += 2*alpha*min(next_cut-current_cut, current_cut+(ring_size//2)-next_cut)\n",
    "                if current_cut > next_cut:\n",
    "                    online_cost += 2*alpha*min(current_cut-next_cut, next_cut+(ring_size//2)-current_cut)\n",
    "                current_cut = next_cut\n",
    "                if current_cut == msg % (ring_size//2):\n",
    "                    online_cost += 1\n",
    "                first_call = False\n",
    "            best_cost = min(best_cost, online_cost)\n",
    "        scores.append(best_cost)\n",
    "        # ajout au rapport\n",
    "        output_file.write(instance_filename + ': score: {}\\n'.format(best_cost))\n",
    "    print(sum(scores))\n",
    "    output_file.write('score total: ' + str(sum(scores)))\n",
    "    output_file.close()"
   ]
  }
 ],
 "metadata": {
  "kernelspec": {
   "display_name": "Python 3",
   "language": "python",
   "name": "python3"
  },
  "language_info": {
   "codemirror_mode": {
    "name": "ipython",
    "version": 3
   },
   "file_extension": ".py",
   "mimetype": "text/x-python",
   "name": "python",
   "nbconvert_exporter": "python",
   "pygments_lexer": "ipython3",
   "version": "3.6.3"
  }
 },
 "nbformat": 4,
 "nbformat_minor": 2
}
